{
 "cells": [
  {
   "cell_type": "code",
   "execution_count": null,
   "id": "8ff1db7d",
   "metadata": {},
   "outputs": [
    {
     "name": "stdout",
     "output_type": "stream",
     "text": [
      "Тест 1: (True, True, True) → True\n",
      "Тест 2: (True, True, False) → False\n",
      "Тест 3: (True, False, True) → False\n",
      "Тест 4: (False, True, True) → False\n",
      "Тест 5: (True, False, False) → True\n",
      "Тест 6: (False, True, False) → True\n",
      "Тест 7: (False, False, True) → True\n",
      "Тест 8: (False, False, False) → False\n"
     ]
    }
   ],
   "source": [
    "# Отсутствует документация функции - не указано, что именно проверяет функция\n",
    "# Логическое выражение слишком сложное и нечитаемое - следует разбить на части\n",
    "# Отсутствует валидация входных параметров - функция принимает любые значения\n",
    "def check_conditions(a: bool, b: bool, c: bool) -> bool:\n",
    "    # Сложная логика без комментариев - непонятно, что проверяется\n",
    "    return (a and b and c) or (a and not b and not c) or (b and not a and not c) or (c and not a and not b)\n",
    "\n",
    "# Отсутствует типизация для test_cases - должен быть List[Tuple[bool, bool, bool]]\n",
    "test_cases = [\n",
    "    (True, True, True),    \n",
    "    (True, True, False),  \n",
    "    (True, False, True),    \n",
    "    (False, True, True),  \n",
    "    (True, False, False),  \n",
    "    (False, True, False),  \n",
    "    (False, False, True),  \n",
    "    (False, False, False) \n",
    "]\n",
    "\n",
    "# Отсутствует проверка корректности test_cases\n",
    "for i, (a, b, c) in enumerate(test_cases, 1):\n",
    "    result = check_conditions(a, b, c)\n",
    "    print(f\"Test {i}: ({a}, {b}, {c}) → {result}\")"
   ]
  },
  {
   "cell_type": "code",
   "execution_count": null,
   "id": "40213a5e",
   "metadata": {},
   "outputs": [
    {
     "name": "stdout",
     "output_type": "stream",
     "text": [
      "Testing calculate_quadratic_roots:\n",
      "x² - 5x + 6 = 0: (3.0, 2.0)\n",
      "x² - 4x + 4 = 0: (2.0, 2.0)\n",
      "x² + x + 1 = 0: ((-0.5+0.8660254037844386j), (-0.5-0.8660254037844386j))\n",
      "0x² + 2x + 1 = 0: None\n",
      "x² + 4 = 0: (2j, -2j)\n",
      "Not numeric: None\n"
     ]
    }
   ],
   "source": [
    "import math\n",
    "from typing import Tuple, Union\n",
    "\n",
    "# Отсутствует документация функции - не описаны входные параметры и возвращаемые значения\n",
    "# Слишком сложный возвращаемый тип - можно упростить с помощью Optional\n",
    "def calculate_quadratic_roots(a: float, b: float, c: float) -> Union[Tuple[float, float], Tuple[complex, complex], None]:\n",
    "    \n",
    "    # Проверка типов выполняется слишком поздно - лучше использовать assert или raise исключение\n",
    "    if not all(isinstance(coef, (int, float)) for coef in [a, b, c]):\n",
    "        return None\n",
    "    \n",
    "    # Отсутствует проверка на бесконечность и NaN значения\n",
    "    if a == 0:\n",
    "        return None\n",
    "    \n",
    "    # Отсутствует проверка на переполнение при вычислении дискриминанта\n",
    "    discriminant = b**2 - 4*a*c\n",
    "    \n",
    "    if discriminant > 0:\n",
    "        # Отсутствует проверка на деление на ноль (хотя a != 0 уже проверено)\n",
    "        root1 = (-b + math.sqrt(discriminant)) / (2*a)\n",
    "        root2 = (-b - math.sqrt(discriminant)) / (2*a)\n",
    "        return (root1, root2)\n",
    "    \n",
    "    elif discriminant == 0:\n",
    "        root = -b / (2*a)\n",
    "        return (root, root)\n",
    "    \n",
    "    else:\n",
    "        real_part = -b / (2*a)\n",
    "        # math.sqrt с отрицательным аргументом может вызвать исключение в некоторых версиях Python\n",
    "        imaginary_part = math.sqrt(-discriminant) / (2*a)\n",
    "        root1 = complex(real_part, imaginary_part)\n",
    "        root2 = complex(real_part, -imaginary_part)\n",
    "        return (root1, root2)\n",
    "\n",
    "# Отсутствует типизация для тестовых данных\n",
    "print(\"Testing calculate_quadratic_roots:\")\n",
    "print(f\"x² - 5x + 6 = 0: {calculate_quadratic_roots(1, -5, 6)}\") \n",
    "print(f\"x² - 4x + 4 = 0: {calculate_quadratic_roots(1, -4, 4)}\") \n",
    "print(f\"x² + x + 1 = 0: {calculate_quadratic_roots(1, 1, 1)}\")   \n",
    "print(f\"0x² + 2x + 1 = 0: {calculate_quadratic_roots(0, 2, 1)}\") \n",
    "print(f\"x² + 4 = 0: {calculate_quadratic_roots(1, 0, 4)}\") \n",
    "# Передача строки в функцию с типом float - может вызвать ошибку типизации\n",
    "print(f\"Not numeric: {calculate_quadratic_roots('1', 2, 3)}\") "
   ]
  },
  {
   "cell_type": "code",
   "execution_count": null,
   "id": "46da574f",
   "metadata": {},
   "outputs": [
    {
     "name": "stdout",
     "output_type": "stream",
     "text": [
      "SequenceStats(sum=15.0, average=3.0, minimum=1.0, maximum=5.0, count=5)\n"
     ]
    }
   ],
   "source": [
    "from typing import List, Union, NamedTuple, Optional\n",
    "\n",
    "# Хорошая типизация с NamedTuple\n",
    "class SequenceStats(NamedTuple):\n",
    "    sum: float\n",
    "    average: float\n",
    "    minimum: float\n",
    "    maximum: float\n",
    "    count: int\n",
    "\n",
    "# Отсутствует документация функции\n",
    "def analyze_sequence(numbers: List[Union[int, float]]) -> Optional[SequenceStats]:\n",
    "    # Отсутствует проверка на None и пустые списки - только проверка на пустоту\n",
    "    if not numbers:\n",
    "        return None\n",
    "        \n",
    "    # Отсутствует проверка на корректность типов элементов списка\n",
    "    total = sum(numbers)\n",
    "    count = len(numbers)\n",
    "    avg = total / count\n",
    "    min_val = min(numbers)\n",
    "    max_val = max(numbers)\n",
    "    \n",
    "    # Избыточное приведение к float - уже гарантировано типами\n",
    "    return SequenceStats(\n",
    "        sum=float(total),\n",
    "        average=float(avg),\n",
    "        minimum=float(min_val),\n",
    "        maximum=float(max_val),\n",
    "        count=count\n",
    "    )\n",
    "\n",
    "# Обработка исключений слишком общая - не указывает конкретную причину ошибки\n",
    "try:\n",
    "    res = analyze_sequence([1, 2, 3, 4, 5])\n",
    "    print(res)\n",
    "except TypeError: \n",
    "    print('wrong data type')"
   ]
  },
  {
   "cell_type": "code",
   "execution_count": null,
   "id": "21d3b1e1",
   "metadata": {},
   "outputs": [
    {
     "name": "stdout",
     "output_type": "stream",
     "text": [
      "Тесты для format_person_info:\n",
      "Имя:       Иван Петров\n",
      "Возраст:   30\n",
      "Профессия: Программист\n",
      "Зарплата:  150000.57\n",
      "Имя:       Мария\n",
      "Возраст:   25\n",
      "Профессия: Неизвестно\n",
      "Зарплата:  120000.00\n",
      "Имя:       Неизвестно\n",
      "Возраст:   35\n",
      "Профессия: Дизайнер\n",
      "Зарплата:  Неизвестно\n",
      "Имя:       Алексей\n",
      "Возраст:   Неизвестно\n",
      "Профессия: Менеджер\n",
      "Зарплата:  95000.12\n"
     ]
    }
   ],
   "source": [
    "from typing import Optional\n",
    "\n",
    "# Отсутствует документация функции\n",
    "def format_person_info(name: Optional[str], age: Optional[int], \n",
    "                      profession: Optional[str], salary: Optional[float]) -> str:\n",
    "    # Отсутствует валидация входных параметров - не проверяется корректность значений\n",
    "    name_str = \"Неизвестно\" if name is None else name\n",
    "    age_str = \"Неизвестно\" if age is None else str(age)\n",
    "    profession_str = \"Неизвестно\" if profession is None else profession\n",
    "    # Отсутствует проверка на отрицательные значения зарплаты\n",
    "    salary_str = \"Неизвестно\" if salary is None else f\"{salary:.2f}\"\n",
    "    \n",
    "    return (f\"Имя:       {name_str}\\n\"\n",
    "            f\"Возраст:   {age_str}\\n\"\n",
    "            f\"Профессия: {profession_str}\\n\"\n",
    "            f\"Зарплата:  {salary_str}\")\n",
    "\n",
    "# Отсутствует типизация для тестовых данных\n",
    "print(\"Тесты для format_person_info:\")\n",
    "print(format_person_info(\"Иван Петров\", 30, \"Программист\", 150000.567))\n",
    "print(format_person_info(\"Мария\", 25, None, 120000))\n",
    "print(format_person_info(None, 35, \"Дизайнер\", None))\n",
    "print(format_person_info(\"Алексей\", None, \"Менеджер\", 95000.123))"
   ]
  },
  {
   "cell_type": "code",
   "execution_count": null,
   "id": "d8fa326e",
   "metadata": {},
   "outputs": [
    {
     "name": "stdout",
     "output_type": "stream",
     "text": [
      "Тесты для process_data:\n",
      "Результат: {'best_student': 'Алексей Козлов', 'worst_student': 'Петр Иванов', 'average_grade': 3.8}\n"
     ]
    }
   ],
   "source": [
    "from typing import List, Dict, Any\n",
    "\n",
    "def process_data(student_data: List[str]) -> Dict[str, Any]:\n",
    "    # Отсутствует валидация входных параметров - не проверяется, что student_data не None\n",
    "    students = []\n",
    "    \n",
    "    for line in student_data:\n",
    "        try:\n",
    "            parts = line.split(',')\n",
    "            # Магическое число 5 - следует вынести в константу\n",
    "            if len(parts) < 5:\n",
    "                continue\n",
    "            name = parts[0].strip()\n",
    "            # Отсутствует проверка на пустые строки в оценках\n",
    "            grades = [float(part.strip()) for part in parts[2:5]]\n",
    "            # Отсутствует проверка на корректность оценок (диапазон 0-5)\n",
    "            avg_grade = sum(grades) / len(grades)\n",
    "            \n",
    "            students.append({\n",
    "                'name': name,\n",
    "                'avg_grade': avg_grade\n",
    "            })\n",
    "            \n",
    "        except (ValueError, IndexError):\n",
    "            # Слишком общая обработка исключений - теряется информация об ошибке\n",
    "            continue\n",
    "    \n",
    "    if not students:\n",
    "        return {\n",
    "            'best_student': None,\n",
    "            'worst_student': None,\n",
    "            'average_grade': 0.0\n",
    "        }\n",
    "    \n",
    "    best_student = max(students, key=lambda x: x['avg_grade'])\n",
    "    worst_student = min(students, key=lambda x: x['avg_grade'])\n",
    "    \n",
    "    total_avg = sum(student['avg_grade'] for student in students) / len(students)\n",
    "    \n",
    "    return {\n",
    "        'best_student': best_student['name'],\n",
    "        'worst_student': worst_student['name'],\n",
    "        'average_grade': total_avg\n",
    "    }\n",
    "\n",
    "# Отсутствует типизация для test_students\n",
    "test_students = [\n",
    "    \"Иван Петров,20,5,4,5\",\n",
    "    \"Мария Сидорова,19,3,4,3\",\n",
    "    \"Алексей Козлов,21,5,5,5\",\n",
    "    \"Анна Морозова,20,4,3,4\",\n",
    "    \"Некорректная строка\",\n",
    "    \"Петр Иванов,22,2,3,2\"\n",
    "]\n",
    "\n",
    "# Отсутствует проверка корректности тестовых данных\n",
    "print(\"Тесты для process_data:\")\n",
    "result = process_data(test_students)\n",
    "print(f\"Результат: {result}\")"
   ]
  },
  {
   "cell_type": "code",
   "execution_count": 15,
   "id": "2df0349b",
   "metadata": {},
   "outputs": [
    {
     "name": "stdout",
     "output_type": "stream",
     "text": [
      "\n"
     ]
    }
   ],
   "source": [
    "print()"
   ]
  }
 ],
 "metadata": {
  "kernelspec": {
   "display_name": "Python 3",
   "language": "python",
   "name": "python3"
  },
  "language_info": {
   "codemirror_mode": {
    "name": "ipython",
    "version": 3
   },
   "file_extension": ".py",
   "mimetype": "text/x-python",
   "name": "python",
   "nbconvert_exporter": "python",
   "pygments_lexer": "ipython3",
   "version": "3.12.5"
  }
 },
 "nbformat": 4,
 "nbformat_minor": 5
}
