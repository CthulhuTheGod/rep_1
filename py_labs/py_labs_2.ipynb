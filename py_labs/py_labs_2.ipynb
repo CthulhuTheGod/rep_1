{
 "cells": [
  {
   "cell_type": "code",
   "execution_count": null,
   "id": "8ff1db7d",
   "metadata": {},
   "outputs": [
    {
     "name": "stdout",
     "output_type": "stream",
     "text": [
      "Тест 1: (True, True, True) → True\n",
      "Тест 2: (True, True, False) → False\n",
      "Тест 3: (True, False, True) → False\n",
      "Тест 4: (False, True, True) → False\n",
      "Тест 5: (True, False, False) → True\n",
      "Тест 6: (False, True, False) → True\n",
      "Тест 7: (False, False, True) → True\n",
      "Тест 8: (False, False, False) → False\n"
     ]
    }
   ],
   "source": [
    "def check_conditions(a: bool, b: bool, c: bool) -> bool:\n",
    "    return (a and b and c) or (a and not b and not c) or (b and not a and not c) or (c and not a and not b)\n",
    "\n",
    "test_cases = [\n",
    "    (True, True, True),    \n",
    "    (True, True, False),  \n",
    "    (True, False, True),    \n",
    "    (False, True, True),  \n",
    "    (True, False, False),  \n",
    "    (False, True, False),  \n",
    "    (False, False, True),  \n",
    "    (False, False, False) \n",
    "]\n",
    "\n",
    "for i, (a, b, c) in enumerate(test_cases, 1):\n",
    "    result = check_conditions(a, b, c)\n",
    "    print(f\"Test {i}: ({a}, {b}, {c}) → {result}\")"
   ]
  }
 ],
 "metadata": {
  "kernelspec": {
   "display_name": "Python 3",
   "language": "python",
   "name": "python3"
  },
  "language_info": {
   "codemirror_mode": {
    "name": "ipython",
    "version": 3
   },
   "file_extension": ".py",
   "mimetype": "text/x-python",
   "name": "python",
   "nbconvert_exporter": "python",
   "pygments_lexer": "ipython3",
   "version": "3.12.5"
  }
 },
 "nbformat": 4,
 "nbformat_minor": 5
}
