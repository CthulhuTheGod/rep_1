{
 "cells": [
  {
   "cell_type": "code",
   "execution_count": null,
   "id": "8c576621",
   "metadata": {},
   "outputs": [
    {
     "name": "stdout",
     "output_type": "stream",
     "text": [
      "A\n"
     ]
    }
   ],
   "source": [
    "#lab 3.1.1\n",
    "def evaluation():\n",
    "    # НЕДОЧЕТ: Отсутствует аннотация типа возвращаемого значения\n",
    "    # НЕДОЧЕТ: Нет проверки на корректность ввода - int() может вызвать ValueError\n",
    "    a = int(input('Insert a number (0-100): '))\n",
    "    assert 0 <= a <= 100 , \"The number must be 0-100\"\n",
    "    \n",
    "    match a:\n",
    "        case _ if a <= 59: grade = 'F'\n",
    "        case _ if a <= 69: grade = 'D'\n",
    "        case _ if a <= 79: grade = 'C'\n",
    "        case _ if a <= 89: grade = 'B'\n",
    "        case _: grade = 'A'\n",
    "    \n",
    "    print(f'Your number is evaluated as: {grade}')\n",
    "try:\n",
    "    evaluation()\n",
    "except Exception as e:\n",
    "    # НЕДОЧЕТ: Слишком общий перехват исключений - лучше ловить конкретные типы\n",
    "    print('Error: ', e, type(e))"
   ]
  },
  {
   "cell_type": "code",
   "execution_count": null,
   "id": "7c016ae4",
   "metadata": {},
   "outputs": [
    {
     "name": "stdout",
     "output_type": "stream",
     "text": [
      "'>=' not supported between instances of 'str' and 'int'\n"
     ]
    }
   ],
   "source": [
    "# lab 3.1.2\n",
    "# Если аннотировать тип, нужна ли тогда \"защита от дурака?\" и как её правильно реализовать?\n",
    "\n",
    "def leap_year_check(year: int) -> bool:\n",
    "    # НЕДОЧЕТ: Аннотация типа не защищает от передачи неправильного типа во время выполнения\n",
    "    # НЕДОЧЕТ: Функция не возвращает значение в случае year < 0, что нарушает аннотацию -> bool\n",
    "    if year >= 0:\n",
    "        return (year % 4 == 0 and year % 100 != 0) or (year % 400 == 0)\n",
    "    else:\n",
    "        # НЕДОЧЕТ: print() не является возвратом значения, функция должна возвращать bool\n",
    "        print('Wrong integer')\n",
    "\n",
    "try:\n",
    "    leap_year_check('a')\n",
    "except TypeError as err:\n",
    "    print(err)\n"
   ]
  },
  {
   "cell_type": "code",
   "execution_count": null,
   "id": "a0fad4ab",
   "metadata": {},
   "outputs": [
    {
     "name": "stdout",
     "output_type": "stream",
     "text": [
      "the triangle is scalene\n"
     ]
    }
   ],
   "source": [
    "# lab 3.1.3\n",
    "\n",
    "def triangle_check(a, b, c: float) -> str:\n",
    "    # НЕДОЧЕТ: Параметры a и b не имеют аннотаций типов\n",
    "    # НЕДОЧЕТ: Отсутствует проверка на корректность треугольника (сумма двух сторон > третьей)\n",
    "    # НЕДОЧЕТ: Отсутствует проверка на положительность сторон\n",
    "\n",
    "    if a == b == c:\n",
    "        return 'equilateral'\n",
    "    elif a == b or b == c or c == a:\n",
    "        return 'isosceles'\n",
    "    elif a != b and b != c and c!= a: \n",
    "        #Зачем нам эта проверка, если две предыдущие исключают её необходимость?\n",
    "        # НЕДОЧЕТ: Действительно, эта проверка избыточна - она всегда будет True после предыдущих условий\n",
    "        return 'scalene'\n",
    "\n",
    "try:\n",
    "    result = triangle_check(1, 2, 3)\n",
    "    print(f'the triangle is {result}')\n",
    "except Exception as e:\n",
    "    print(f\"Error: {e}\")"
   ]
  },
  {
   "cell_type": "code",
   "execution_count": null,
   "id": "7647235b",
   "metadata": {},
   "outputs": [],
   "source": [
    "# lab 3.2.1\n",
    "\n",
    "my_range = range(1, 11)\n",
    "for i in my_range:\n",
    "    my_list = list()\n",
    "    for j in my_range:\n",
    "        my_list.append(i*j)\n",
    "    print(my_list)\n"
   ]
  },
  {
   "cell_type": "code",
   "execution_count": null,
   "id": "1ea42ecd",
   "metadata": {},
   "outputs": [
    {
     "name": "stdout",
     "output_type": "stream",
     "text": [
      "The number must be greater than 2\n",
      "Prime number list: None\n"
     ]
    }
   ],
   "source": [
    "# lab 3.2.2\n",
    "\n",
    "def prime_number_seq(n: int) -> list[int]:\n",
    "    primes = []\n",
    "    # НЕДОЧЕТ: Функция не возвращает значение в случае n <= 2, что нарушает аннотацию -> list[int]\n",
    "    if n > 2:\n",
    "        for i in range(2, n):\n",
    "            if all(i % j != 0 for j in range(2, int(i**0.5) + 1)):\n",
    "                primes.append(i)\n",
    "        return primes\n",
    "    else:\n",
    "        # НЕДОЧЕТ: print() не является возвратом значения, функция должна возвращать list[int]\n",
    "        print('The number must be greater than 2')\n",
    "\n",
    "# Пример использования\n",
    "try:\n",
    "    result = prime_number_seq(1)\n",
    "    print(f\"Prime number list: {result}\")\n",
    "except ValueError:\n",
    "    print(\"Input must be a positive integer\")"
   ]
  },
  {
   "cell_type": "code",
   "execution_count": null,
   "id": "17923490",
   "metadata": {},
   "outputs": [],
   "source": [
    "# lab 3.2.3\n",
    "# Проверьте, пожалуйста, лабу через терминал 🥺🥺🥺\n",
    "\n",
    "import random\n",
    "def num_gen():\n",
    "    # НЕДОЧЕТ: Отсутствует аннотация типа возвращаемого значения\n",
    "    random_number = random.randint(1, 100)\n",
    "    return random_number\n",
    "int_num_gen = int(num_gen())\n",
    "\n",
    "a = 0\n",
    "tries = 0\n",
    "# НЕДОЧЕТ: Отсутствует проверка корректности ввода diff\n",
    "diff = int(input('Choose difficulty (1-100): '))\n",
    "while a != int_num_gen:\n",
    "    try:\n",
    "        a = input('Guess a number: ')\n",
    "        # НЕДОЧЕТ: assert a.isnumeric должно быть assert a.isnumeric() - нужны скобки для вызова метода\n",
    "        assert a.isnumeric, f'{a} is not a numeric!'\n",
    "        a = int(a)        \n",
    "        match a:\n",
    "            case _ if a < int_num_gen: print(f'The number is bigger than {a}, try again!')\n",
    "            case _ if a > int_num_gen: print(f'The number is smaller than {a}, try again!')\n",
    "            case _ if a == int_num_gen: print(f'Congrats! {a} is the hidden number! 🎉🎉🎉')\n",
    "        tries += 1\n",
    "        # Подсказка после 5 попыток:\n",
    "        if tries == diff:\n",
    "            print(f'the number is {bin(int_num_gen)} 😉')\n",
    "    except:\n",
    "        # НЕДОЧЕТ: Слишком общий перехват исключений - лучше ловить конкретные типы\n",
    "        print(f'{a} is a bad value')\n"
   ]
  },
  {
   "cell_type": "code",
   "execution_count": null,
   "id": "4e7ded94",
   "metadata": {},
   "outputs": [
    {
     "name": "stdout",
     "output_type": "stream",
     "text": [
      "In your sentence:\n",
      "symbols: 38\n",
      "words: 10\n",
      "sentences: 5\n",
      "\n",
      "Top 5 words: \n",
      "{'text': 4, '1': 2, '2': 2, '3': 2}\n"
     ]
    }
   ],
   "source": [
    "#lab 3.2.4\n",
    "\n",
    "from collections import Counter\n",
    "import re\n",
    "\n",
    "def text_to_analyze(text: str):\n",
    "    # НЕДОЧЕТ: Отсутствует аннотация типа возвращаемого значения\n",
    "    # НЕДОЧЕТ: Отсутствует проверка на пустую строку или None\n",
    "\n",
    "    count_symbols = len(text)\n",
    "    words = re.findall(r'\\b\\w+\\b', text.lower())\n",
    "    count_words = len(words)\n",
    "    # НЕДОЧЕТ: Подсчет предложений неточный - не учитывает случаи с несколькими знаками препинания подряд\n",
    "    count_sentences = 1 + text.count('.') + text.count('!') + text.count('?')\n",
    "\n",
    "    word_counts = Counter(words)\n",
    "    top_words = dict(word_counts.most_common(5))\n",
    "\n",
    "    print('In your sentence:')\n",
    "    print('symbols:', count_symbols)\n",
    "    print('words:', count_words)\n",
    "    print('sentences:', count_sentences)\n",
    "    print(f'\\nTop 5 words: \\n{top_words}')\n",
    "\n",
    "text_to_analyze('text, text. Text? text. 1, 2, 3. 3 2 1')"
   ]
  },
  {
   "cell_type": "code",
   "execution_count": null,
   "id": "54045b3f",
   "metadata": {},
   "outputs": [
    {
     "name": "stdout",
     "output_type": "stream",
     "text": [
      "Error: unsupported operand type(s) for /: 'str' and 'int', try again\n",
      "Thank you for using our calculator! You can support us with СБП by phone number: 88005553535\n"
     ]
    }
   ],
   "source": [
    "#lab 3.3.1\n",
    "\n",
    "def calc(a: int | float, op: str, b: int | float):\n",
    "    # НЕДОЧЕТ: Отсутствует аннотация типа возвращаемого значения\n",
    "    # НЕДОЧЕТ: Отсутствует проверка на деление на ноль\n",
    "    # НЕДОЧЕТ: Отсутствует обработка неизвестных операций\n",
    "    match op:\n",
    "        case _ if op == '+': return a+b\n",
    "        case _ if op == '-': return a-b\n",
    "        case _ if op == '*': return a*b\n",
    "        case _ if op == '/': return a/b\n",
    "\n",
    "try:\n",
    "    res = calc(1, '/', 2)\n",
    "    print(res)\n",
    "except Exception as e:\n",
    "    print(f'Error: {e}, try again')\n",
    "finally:\n",
    "    print('Thank you for using our calculator! You can support us with СБП by phone number: 88005553535')"
   ]
  },
  {
   "cell_type": "code",
   "execution_count": null,
   "id": "861eae69",
   "metadata": {},
   "outputs": [],
   "source": [
    "#THE SAME LAB FOR .PY WITH COUNTINIOUS INPUT:\n",
    "\n",
    "def calc(a, op, b):\n",
    "    # НЕДОЧЕТ: Отсутствуют аннотации типов для всех параметров\n",
    "    # НЕДОЧЕТ: Отсутствует аннотация типа возвращаемого значения\n",
    "    # НЕДОЧЕТ: int(a) и int(b) могут вызвать ValueError при некорректном вводе\n",
    "    a = int(a)\n",
    "    b = int(b)\n",
    "    # НЕДОЧЕТ: Отсутствует проверка на деление на ноль\n",
    "    # НЕДОЧЕТ: Отсутствует обработка неизвестных операций\n",
    "    match op:\n",
    "        case _ if op == '+': return a+b\n",
    "        case _ if op == '-': return a-b\n",
    "        case _ if op == '*': return a*b\n",
    "        case _ if op == '/': return a/b\n",
    "\n",
    "while True:\n",
    "    try:\n",
    "        a, op, b = input('a_?_b: ').split()\n",
    "        print(f'= {calc(a, op, b)}')\n",
    "    except Exception as e:\n",
    "        # НЕДОЧЕТ: Слишком общий перехват исключений - лучше ловить конкретные типы\n",
    "        print(f'Error: {e}, try again')\n",
    "    finally:\n",
    "        print('Ctrl + C to interrupt ⛔')"
   ]
  },
  {
   "cell_type": "code",
   "execution_count": null,
   "id": "a9fb904b",
   "metadata": {},
   "outputs": [
    {
     "name": "stdout",
     "output_type": "stream",
     "text": [
      "file C:/Users/oxot9/Desktop/txt.txt was opened\n",
      "congrats! you have read the file!\n",
      "file was closed\n"
     ]
    }
   ],
   "source": [
    "#lab 3.3.2\n",
    "\n",
    "import os\n",
    "\n",
    "def read_file(file_path: str):\n",
    "    # НЕДОЧЕТ: Отсутствует аннотация типа возвращаемого значения\n",
    "    # НЕДОЧЕТ: Отсутствует проверка на пустую строку или None для file_path\n",
    "    file = None\n",
    "    try:\n",
    "        file = open(file_path, 'r', encoding='utf-8')\n",
    "        content = file.read()\n",
    "        print(f'file {file.name} was opened')\n",
    "        print(content)\n",
    "    except FileNotFoundError:\n",
    "        print('File not found, try again')\n",
    "    except PermissionError:\n",
    "        print('Permission error!')\n",
    "    except UnicodeDecodeError:\n",
    "        print('Encoding error! Try different encoding')\n",
    "    except Exception as e:\n",
    "        print(f'Error: {e}')\n",
    "    finally:\n",
    "        if file:\n",
    "            file.close()\n",
    "            print('file was closed')\n",
    "\n",
    "read_file('C:/Users/oxot9/Desktop/txt.txt')"
   ]
  },
  {
   "cell_type": "code",
   "execution_count": null,
   "id": "361660a5",
   "metadata": {},
   "outputs": [
    {
     "name": "stdout",
     "output_type": "stream",
     "text": [
      "Банковская ошибка: Превышен лимит транзакции. Сумма: 1500000, лимит: 1000000\n"
     ]
    }
   ],
   "source": [
    "# lab 3.3.3\n",
    "\n",
    "class BankException(Exception):\n",
    "    \"\"\"Parental bank exception class\"\"\"\n",
    "    pass\n",
    "\n",
    "class InsufficientFundsError(BankException):\n",
    "    \"\"\"Insufficient funds\"\"\"\n",
    "    def __init__(self, balance, amount):\n",
    "        # НЕДОЧЕТ: Отсутствуют аннотации типов для параметров\n",
    "        self.balance = balance\n",
    "        self.amount = amount\n",
    "        super().__init__(f\"Insufficient funds. Balance: {balance}, Requested: {amount}\")\n",
    "\n",
    "class InvalidAccountError(BankException):\n",
    "    \"\"\"Wrong account number\"\"\"\n",
    "    def __init__(self, account_number):\n",
    "        # НЕДОЧЕТ: Отсутствует аннотация типа для параметра\n",
    "        self.account_number = account_number\n",
    "        super().__init__(f\"Wrong account number: {account_number}\")\n",
    "\n",
    "class TransactionLimitError(BankException):\n",
    "    \"\"\"Transaction limit exceeded\"\"\"\n",
    "    def __init__(self, amount, limit=1000000):\n",
    "        # НЕДОЧЕТ: Отсутствуют аннотации типов для параметров\n",
    "        self.amount = amount\n",
    "        self.limit = limit\n",
    "        super().__init__(f\"Transaction limit exceeded. Requested: {amount}, Limit: {limit}\")\n",
    "\n",
    "\n",
    "class BankAccount:\n",
    "    def __init__(self, account_number: str, owner: str, initial_balance: float = 0):\n",
    "        # НЕДОЧЕТ: Отсутствует проверка на пустую строку для account_number и owner\n",
    "        # НЕДОЧЕТ: Отсутствует проверка на отрицательный initial_balance\n",
    "        self.account_number = account_number\n",
    "        self.owner = owner\n",
    "        self.balance = initial_balance\n",
    "        self.transaction_limit = 1000000\n",
    "    \n",
    "    def deposit(self, amount: float):\n",
    "        \"\"\"Account replenishment\"\"\"\n",
    "        # НЕДОЧЕТ: Отсутствует аннотация типа возвращаемого значения\n",
    "        if amount <= 0:\n",
    "            raise ValueError(\"The replenishment amount must be positive\")\n",
    "        self.balance += amount\n",
    "        return self.balance\n",
    "    \n",
    "    def withdraw(self, amount: float):\n",
    "        \"\"\"Withdrawal of funds from the account\"\"\"\n",
    "        # НЕДОЧЕТ: Отсутствует аннотация типа возвращаемого значения\n",
    "        if amount <= 0:\n",
    "            raise ValueError(\"The withdrawal amount must be positive\")\n",
    "        \n",
    "        if amount > self.balance:\n",
    "            raise InsufficientFundsError(self.balance, amount)\n",
    "        \n",
    "        self.balance -= amount\n",
    "        return self.balance\n",
    "    \n",
    "    def transfer(self, amount: float, target_account: 'BankAccount'):\n",
    "        \"\"\"Transfer of funds\"\"\"\n",
    "        # НЕДОЧЕТ: Отсутствует аннотация типа возвращаемого значения\n",
    "        if amount <= 0:\n",
    "            raise ValueError(\"The transfer amount must be positive.\")\n",
    "        \n",
    "        if amount > self.transaction_limit:\n",
    "            raise TransactionLimitError(amount)\n",
    "        \n",
    "        if not isinstance(target_account, BankAccount):\n",
    "            raise InvalidAccountError(\"Invalid target account\")\n",
    "        \n",
    "        if amount > self.balance:\n",
    "            raise InsufficientFundsError(self.balance, amount)\n",
    "        \n",
    "        self.balance -= amount\n",
    "        target_account.balance += amount\n",
    "        return self.balance\n",
    "\n",
    "\n",
    "if __name__ == \"__main__\":\n",
    "    try:\n",
    "        account1 = BankAccount(\"1234567890\", \"Иван Иванов\", 500000)\n",
    "        account2 = BankAccount(\"0987654321\", \"Петр Петров\", 100000)\n",
    "        \n",
    "        account1.transfer(1500000, account2)\n",
    "        \n",
    "    except BankException as e:\n",
    "        print(f\"Bank error: {e}\")\n",
    "    \n",
    "    except Exception as e:\n",
    "        print(f\"Common error: {e}\")"
   ]
  }
 ],
 "metadata": {
  "kernelspec": {
   "display_name": "Python 3",
   "language": "python",
   "name": "python3"
  },
  "language_info": {
   "codemirror_mode": {
    "name": "ipython",
    "version": 3
   },
   "file_extension": ".py",
   "mimetype": "text/x-python",
   "name": "python",
   "nbconvert_exporter": "python",
   "pygments_lexer": "ipython3",
   "version": "3.12.5"
  }
 },
 "nbformat": 4,
 "nbformat_minor": 5
}
