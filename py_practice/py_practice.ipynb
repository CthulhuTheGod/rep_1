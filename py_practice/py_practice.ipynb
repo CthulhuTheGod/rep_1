{
 "cells": [
  {
   "cell_type": "code",
   "execution_count": null,
   "id": "b9f03c30",
   "metadata": {},
   "outputs": [],
   "source": [
    "import math\n",
    "from typing import Generator, Iterator, Iterable, Any\n",
    "\n",
    "def taylor_series_generator(x):\n",
    "    GAMMA = 0.5772156649\n",
    "    EILER = math.e\n",
    "    seq_sum = -GAMMA - math.log(x)\n",
    "    n = 0\n",
    "    fact_n = 1\n",
    "\n",
    "    def denom(n) -> float:\n",
    "        nonlocal fact_n, x       \n",
    "        res = (-x**n) / (n*fact_n)\n",
    "        fact_n *= n\n",
    "        return res\n",
    "\n",
    "    while True:      \n",
    "        seq_sum += denom(n:=n+1)\n",
    "        yield seq_sum\n",
    "\n",
    "einstain_gen: Generator[float, None, None] = taylor_series_generator(0.5)\n",
    "einstain_iterator: Iterable[float] = iter(einstain_gen)\n",
    "eps: float = 0.00001\n",
    "curr_sum = next(einstain_iterator)\n",
    "\n",
    "spisok: list[Any] = [1, 2 ,3]\n",
    "\n",
    "iter_spisok: Iterator[any] = iter(spisok) \n",
    "while curr_sum - (curr_sum := next(einstain_iterator)) > eps:\n",
    "    print(curr_sum)\n",
    "\n",
    "\n",
    "\n",
    "\n",
    "print(spisok)\n",
    "print(iter(spisok))"
   ]
  },
  {
   "cell_type": "code",
   "execution_count": null,
   "id": "d3d44142",
   "metadata": {},
   "outputs": [],
   "source": [
    "# написать функцию grad(f:Callable[[float], Callable[float], [float], eps: float = 1e^-4])\n",
    "from typing import Callable\n",
    "import math\n",
    "\n",
    "def grad(f:Callable[[float], float], eps: float = 0.0001) -> Callable[[float], float]:\n",
    "    def func(x: float) -> float:\n",
    "        return (f(x+eps) - f(x-eps))/(2*eps)\n",
    "    return func\n",
    "\n",
    "def any_name(x: float) -> float:\n",
    "        return x ** 2 + 0.5\n",
    "\n",
    "derivative = grad(f = any_name, eps = 0.1)\n"
   ]
  },
  {
   "cell_type": "code",
   "execution_count": null,
   "id": "89151fbd",
   "metadata": {},
   "outputs": [
    {
     "data": {
      "text/plain": [
       "4.0000000000000036"
      ]
     },
     "metadata": {},
     "output_type": "display_data"
    }
   ],
   "source": [
    "derivative(2)"
   ]
  },
  {
   "cell_type": "code",
   "execution_count": null,
   "id": "c7ef2c99",
   "metadata": {},
   "outputs": [],
   "source": [
    "def f(*args: Iterable[float]) -> float:\n",
    "    args : Iterable[float]\n",
    "    grad_ : list[Callable[]] = list()\n",
    "    for i in range(len(args)):\n",
    "        fixed_args_1, changabe_arg, fixed_args_2 = args[:i-1], args[i], args[i+1:]\n",
    "        def new_f(x):\n",
    "            return grad*(lambda x: f(fixed_args_1, fixed_args_2))\n",
    "        grad_.append(new_f)"
   ]
  },
  {
   "cell_type": "code",
   "execution_count": null,
   "id": "18dc4a78",
   "metadata": {},
   "outputs": [],
   "source": [
    "#Taylor series\n",
    "\n",
    "import math\n",
    "\n",
    "def taylor_series_generator(x):\n",
    "    GAMMA = 0.5772156649\n",
    "    EILER = math.e\n",
    "    seq_sum = -GAMMA - math.log(x)\n",
    "    n = 0\n",
    "    fact_n = 1\n",
    "\n",
    "    def denom(n):\n",
    "        nonlocal fact_n, x\n",
    "        \n",
    "        res = (-x**n) / (n*fact_n)\n",
    "        fact_n *= n\n",
    "        return res\n",
    "\n",
    "    while True: \n",
    "\n",
    "        seq_sum += denom(n:=n+1)\n",
    "        print(seq_sum)\n",
    "\n",
    "\n",
    "\n",
    "\n",
    "taylor_series_generator(math.pi/2)"
   ]
  }
 ],
 "metadata": {
  "kernelspec": {
   "display_name": "Python 3",
   "language": "python",
   "name": "python3"
  },
  "language_info": {
   "name": "python",
   "version": "3.12.5"
  }
 },
 "nbformat": 4,
 "nbformat_minor": 5
}
